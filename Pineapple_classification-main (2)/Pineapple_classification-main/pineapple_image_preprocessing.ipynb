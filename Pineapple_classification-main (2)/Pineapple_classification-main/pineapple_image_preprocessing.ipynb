{
 "cells": [
  {
   "cell_type": "markdown",
   "id": "cc7fbf02",
   "metadata": {},
   "source": [
    "## cam-1 pine-bottom, pine-side 照片預處理\n",
    "* 照片裁切"
   ]
  },
  {
   "cell_type": "code",
   "execution_count": 1,
   "id": "018b717d",
   "metadata": {
    "scrolled": false
   },
   "outputs": [
    {
     "name": "stdout",
     "output_type": "stream",
     "text": [
      "該檔案不存在: training/0047/cam-1/pine-side/img/03.jpg\n",
      "該檔案不存在: training/0047/cam-1/pine-side/img/04.jpg\n"
     ]
    }
   ],
   "source": [
    "import cv2, os\n",
    "import pandas as pd\n",
    "from matplotlib import pyplot as plt\n",
    "\n",
    "def preprocessed_and_saved_img(img_path):\n",
    "    # 讀取圖檔\n",
    "    if os.path.exists(img_path):\n",
    "        # print(\"該檔案存在\")\n",
    "        img = cv2.imread(img_path)\n",
    "        # 裁切區域的 x 與 y 座標（左上角）\n",
    "        x = 350\n",
    "        y = 0\n",
    "        # 裁切區域的長度與寬度\n",
    "        w = 300\n",
    "        h = 435\n",
    "\n",
    "        # 裁切圖片\n",
    "        crop_img = img[y:y+h, x:x+w]\n",
    "\n",
    "    #     show image\n",
    "    #     RGB_im = cv2.cvtColor(crop_img, cv2.COLOR_BGR2RGB)\n",
    "    #     plt.imshow(RGB_im)\n",
    "    #     plt.title(f'cropped: {img_path}')\n",
    "    #     plt.show()\n",
    "        path, filename = os.path.split(img_path)\n",
    "        #print(f'path: {path}, filename: {filename}')\n",
    "        dest_path = os.path.join(path, \"cropped_\" + filename)\n",
    "        cv2.imwrite(dest_path, crop_img)\n",
    "    else:\n",
    "        print(f'該檔案不存在: {img_path}')\n",
    "    \n",
    "\n",
    "annotations_file = \"./training/pineapple_training_label.csv\"\n",
    "img_labels = pd.read_csv(annotations_file, encoding='unicode_escape')\n",
    "for i in range(len(img_labels)):\n",
    "    img_pine = [] # 存照片路徑\n",
    "    tmp_id = img_labels.iloc[i, 0]\n",
    "    pineapple_id = '{:04d}'.format(tmp_id)\n",
    "    dest = os.path.join(\"training\", pineapple_id, \"\")\n",
    "    for j in range(1, 5):\n",
    "        img_index = '{:02d}'.format(j)\n",
    "        pine_bottom_path = os.path.join(\"training\", pineapple_id, \"cam-1\", \"pine-bottom\", \"img\", '{}.jpg'.format(img_index))\n",
    "        preprocessed_and_saved_img(pine_bottom_path)\n",
    "        pine_side_path = os.path.join(\"training\", pineapple_id, \"cam-1\", \"pine-side\", \"img\", '{}.jpg'.format(img_index))\n",
    "        preprocessed_and_saved_img(pine_side_path)"
   ]
  },
  {
   "cell_type": "markdown",
   "id": "ecfc7a64",
   "metadata": {},
   "source": [
    "## cam-2 pine-side 照片預處理\n",
    "* 照片裁切\n",
    "* 修改亮度與對比度"
   ]
  },
  {
   "cell_type": "code",
   "execution_count": 14,
   "id": "c07a72fc",
   "metadata": {},
   "outputs": [],
   "source": [
    "import cv2, os\n",
    "import pandas as pd\n",
    "import numpy as np\n",
    "from matplotlib import pyplot as plt\n",
    "\n",
    "def preprocessed_and_saved_img(img_path):\n",
    "    if os.path.exists(img_path):\n",
    "        # 讀取圖檔\n",
    "        img = cv2.imread(img_path)\n",
    "        # 調整對比度與亮度\n",
    "        contrast = 30\n",
    "        brightness = -60\n",
    "        output = img * (contrast/127 + 1) - contrast + brightness # 轉換公式\n",
    "        img = np.clip(output, 0, 255)\n",
    "        img = np.uint8(img)\n",
    "        # 裁切區域的 x 與 y 座標（左上角）\n",
    "        x = 150\n",
    "        y = 150\n",
    "\n",
    "        # 裁切區域的長度與寬度\n",
    "        w = 500\n",
    "        h = 550\n",
    "\n",
    "        # 裁切圖片\n",
    "        crop_img = img[y:y+h, x:x+w]\n",
    "        # show image\n",
    "#         RGB_im = cv2.cvtColor(crop_img, cv2.COLOR_BGR2RGB)\n",
    "#         plt.imshow(RGB_im)\n",
    "#         plt.title(f'cropped: {img_path}')\n",
    "#         plt.show()\n",
    "        # store the crop image as a new file\n",
    "        path, filename = os.path.split(img_path)\n",
    "        #print(f'path: {path}, filename: {filename}')\n",
    "        dest_path = os.path.join(path, \"cropped_\" + filename)\n",
    "        cv2.imwrite(dest_path, crop_img)\n",
    "    else:\n",
    "        print(f'該檔案不存在: {img_path}')\n",
    "    \n",
    "\n",
    "annotations_file = \"./training/pineapple_training_label.csv\"\n",
    "img_labels = pd.read_csv(annotations_file, encoding='unicode_escape')\n",
    "for i in range(len(img_labels)):\n",
    "    img_pine = [] # 存照片路徑\n",
    "    tmp_id = img_labels.iloc[i, 0]\n",
    "    pineapple_id = '{:04d}'.format(tmp_id)\n",
    "    dest = os.path.join(\"training\", pineapple_id, \"\")\n",
    "    for j in range(1, 5):\n",
    "        img_index = '{:02d}'.format(j)\n",
    "        pine_side_path = os.path.join(\"training\", pineapple_id, \"cam-2\", \"pine-side\", \"img\", '{}.jpg'.format(img_index))\n",
    "        preprocessed_and_saved_img(pine_side_path)"
   ]
  },
  {
   "cell_type": "markdown",
   "id": "043674e8",
   "metadata": {},
   "source": [
    "## cam-2 pine-bottom 照片預處理\n",
    "* 照片裁切\n",
    "* 修改亮度與對比度"
   ]
  },
  {
   "cell_type": "code",
   "execution_count": 20,
   "id": "9a382402",
   "metadata": {},
   "outputs": [
    {
     "name": "stdout",
     "output_type": "stream",
     "text": [
      "該檔案不存在: training/0025/cam-2/pine-bottom/img/03.jpg\n",
      "該檔案不存在: training/0025/cam-2/pine-bottom/img/04.jpg\n"
     ]
    }
   ],
   "source": [
    "import cv2, os\n",
    "import pandas as pd\n",
    "import numpy as np\n",
    "from matplotlib import pyplot as plt\n",
    "\n",
    "def preprocessed_and_saved_img(img_path):\n",
    "    if os.path.exists(img_path):\n",
    "        import cv2, os\n",
    "import pandas as pd\n",
    "import numpy as np\n",
    "from matplotlib import pyplot as plt\n",
    "\n",
    "def preprocessed_and_saved_img(img_path):\n",
    "    if os.path.exists(img_path):\n",
    "        # 讀取圖檔\n",
    "        img = cv2.imread(img_path)\n",
    "        # 調整對比度與亮度\n",
    "        contrast = 10\n",
    "        brightness = -30\n",
    "        output = img * (contrast/127 + 1) - contrast + brightness # 轉換公式\n",
    "        img = np.clip(output, 0, 255)\n",
    "        img = np.uint8(img)\n",
    "        # 裁切區域的 x 與 y 座標（左上角）\n",
    "        x = 150\n",
    "        y = 200\n",
    "\n",
    "        # 裁切區域的長度與寬度\n",
    "        w = 720\n",
    "        h = 500\n",
    "\n",
    "        # 裁切圖片\n",
    "        crop_img = img[y:y+h, x:x+w]\n",
    "        \n",
    "        # show image\n",
    "#         RGB_im = cv2.cvtColor(crop_img, cv2.COLOR_BGR2RGB)\n",
    "#         plt.imshow(RGB_im)\n",
    "#         plt.title(f'cropped: {img_path}')\n",
    "#         plt.show()\n",
    "        \n",
    "        # store the crop image as a new file\n",
    "        path, filename = os.path.split(img_path)\n",
    "        dest_path = os.path.join(path, \"cropped_\" + filename)\n",
    "        cv2.imwrite(dest_path, crop_img)\n",
    "    else:\n",
    "        print(f'該檔案不存在: {img_path}')\n",
    "    \n",
    "\n",
    "annotations_file = \"./training/pineapple_training_label.csv\"\n",
    "img_labels = pd.read_csv(annotations_file, encoding='unicode_escape')\n",
    "for i in range(len(img_labels)):\n",
    "    img_pine = [] # 存照片路徑\n",
    "    tmp_id = img_labels.iloc[i, 0]\n",
    "    pineapple_id = '{:04d}'.format(tmp_id)\n",
    "    dest = os.path.join(\"training\", pineapple_id, \"\")\n",
    "    for j in range(1, 5):\n",
    "        img_index = '{:02d}'.format(j)\n",
    "        pine_side_path = os.path.join(\"training\", pineapple_id, \"cam-2\", \"pine-bottom\", \"img\", '{}.jpg'.format(img_index))\n",
    "        preprocessed_and_saved_img(pine_side_path)"
   ]
  },
  {
   "cell_type": "markdown",
   "id": "4e7fbeb9",
   "metadata": {},
   "source": [
    "## 將照片路徑與 label 取出"
   ]
  },
  {
   "cell_type": "code",
   "execution_count": 37,
   "id": "e9e5b91f",
   "metadata": {},
   "outputs": [
    {
     "name": "stdout",
     "output_type": "stream",
     "text": [
      "Total Pineapples: 252\n",
      "16\n"
     ]
    }
   ],
   "source": [
    "import pandas as pd\n",
    "import os\n",
    "import cv2\n",
    "\n",
    "annotations_file = \"./training/pineapple_training_label.csv\"\n",
    "img_labels = pd.read_csv(annotations_file, encoding='unicode_escape')\n",
    "pine_and_path = {} # 存放 dict 對應鳳梨編號與照片路徑\n",
    "pine_and_label = {} # 存放鳳梨類別\n",
    "\n",
    "for i in range(len(img_labels)):\n",
    "    img_pine = [] # 存照片路徑\n",
    "    tmp_id = img_labels.iloc[i, 0]\n",
    "    pineapple_id = '{:04d}'.format(tmp_id)\n",
    "    pine_and_label[pineapple_id] = img_labels.iloc[i, 1]\n",
    "    for j in range(1, 5):\n",
    "        img_index = '{:02d}'.format(j)\n",
    "#         pine_bottom_path = os.path.join(\"training\", pineapple_id, \"cam-1\", \"pine-bottom\", \"img\", 'cropped_{}.jpg'.format(img_index))\n",
    "#         img_pine.append(pine_bottom_path)\n",
    "#         pine_bottom_path = os.path.join(\"training\", pineapple_id, \"cam-2\", \"pine-bottom\", \"img\", 'cropped_{}.jpg'.format(img_index))\n",
    "#         img_pine.append(pine_bottom_path)\n",
    "#         pine_side_path = os.path.join(\"training\", pineapple_id, \"cam-1\", \"pine-side\", \"img\", 'cropped_{}.jpg'.format(img_index))\n",
    "#         img_pine.append(pine_side_path)\n",
    "#         pine_side_path = os.path.join(\"training\", pineapple_id, \"cam-2\", \"pine-side\", \"img\", 'cropped_{}.jpg'.format(img_index))\n",
    "#         img_pine.append(pine_side_path)\n",
    "        pine_paths = [\n",
    "            os.path.join(\"training\", pineapple_id, \"cam-1\", \"pine-bottom\", \"img\", 'cropped_{}.jpg'.format(img_index)),\n",
    "            os.path.join(\"training\", pineapple_id, \"cam-2\", \"pine-bottom\", \"img\", 'cropped_{}.jpg'.format(img_index)),\n",
    "            os.path.join(\"training\", pineapple_id, \"cam-1\", \"pine-side\", \"img\", 'cropped_{}.jpg'.format(img_index)),\n",
    "            os.path.join(\"training\", pineapple_id, \"cam-2\", \"pine-side\", \"img\", 'cropped_{}.jpg'.format(img_index))\n",
    "        ]\n",
    "        img_pine += [path for path in pine_paths if os.path.exists(path)]\n",
    "    pine_and_path[pineapple_id] = img_pine\n",
    "    \n",
    "print(f'Total Pineapples: {len(pine_and_path)}')\n",
    "print(len(pine_and_path[\"0004\"]))"
   ]
  },
  {
   "cell_type": "markdown",
   "id": "a28b317f",
   "metadata": {},
   "source": [
    "## 對應照片路徑與 label 於 csv 檔案 (pineapple_annotations.csv)"
   ]
  },
  {
   "cell_type": "code",
   "execution_count": 38,
   "id": "2dbb3f5d",
   "metadata": {
    "scrolled": true
   },
   "outputs": [
    {
     "name": "stdout",
     "output_type": "stream",
     "text": [
      "total Pineapple images: 4029\n"
     ]
    }
   ],
   "source": [
    "import csv\n",
    "import cv2\n",
    "import os\n",
    "import pandas as pd\n",
    "\n",
    "data_list = [[\"檔案路徑\", \"鳳梨類別\"]] # to store data for use in csv\n",
    "for pineapple in pine_and_path:\n",
    "    category = pine_and_label[pineapple]\n",
    "    for path in pine_and_path[pineapple]:\n",
    "        data = []\n",
    "        data.append(path)\n",
    "        data.append(category)\n",
    "        data_list.append(data)\n",
    "\n",
    "print(f'total Pineapple images: {len(data_list)}')\n",
    "\n",
    "#建立一個 CSV 檔案並寫入資料\n",
    "with open(\"./training/pineapple_cropped_annotations.csv\", \"w\", newline=\"\", encoding=\"utf-8\") as f:\n",
    "    writer = csv.writer(f)\n",
    "    writer.writerows(data_list)\n"
   ]
  }
 ],
 "metadata": {
  "kernelspec": {
   "display_name": "Python 3 (ipykernel)",
   "language": "python",
   "name": "python3"
  },
  "language_info": {
   "codemirror_mode": {
    "name": "ipython",
    "version": 3
   },
   "file_extension": ".py",
   "mimetype": "text/x-python",
   "name": "python",
   "nbconvert_exporter": "python",
   "pygments_lexer": "ipython3",
   "version": "3.8.10"
  }
 },
 "nbformat": 4,
 "nbformat_minor": 5
}
